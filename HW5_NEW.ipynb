{
 "cells": [
  {
   "cell_type": "markdown",
   "id": "8d819131",
   "metadata": {},
   "source": [
    "### 1. Посчитаем ошибку на Кросс-Валидации и Тесте на выборке с различными признаками."
   ]
  },
  {
   "cell_type": "code",
   "execution_count": 1,
   "id": "31754b73",
   "metadata": {},
   "outputs": [],
   "source": [
    "import pandas as pd"
   ]
  },
  {
   "cell_type": "code",
   "execution_count": 2,
   "id": "bf604ca9",
   "metadata": {},
   "outputs": [],
   "source": [
    "initial_data = pd.read_csv('initial_data.csv', index_col='id')\n",
    "\n",
    "initial_cols = ['vendor_id', 'passenger_count', 'pickup_longitude',\n",
    "                'pickup_latitude', 'dropoff_longitude', 'dropoff_latitude',\n",
    "                'trip_duration']\n",
    "\n",
    "initial_data = initial_data[initial_cols]"
   ]
  },
  {
   "cell_type": "code",
   "execution_count": 3,
   "id": "0f877d0d",
   "metadata": {},
   "outputs": [],
   "source": [
    "### Замерять будем MSLE. Можно показать, что для оптимизации MSLE,\n",
    "### Достаточно логарифмировать таргетную переменную, \n",
    "### а потом оптимизировать привычные MSE\n",
    "import numpy as np\n",
    "\n",
    "initial_data = initial_data.assign(log_trip_duration=np.log1p(initial_data['trip_duration']))\n",
    "initial_data = initial_data.drop('trip_duration', axis=1)"
   ]
  },
  {
   "cell_type": "code",
   "execution_count": 4,
   "id": "fa4b658e",
   "metadata": {},
   "outputs": [
    {
     "data": {
      "text/html": [
       "<div>\n",
       "<style scoped>\n",
       "    .dataframe tbody tr th:only-of-type {\n",
       "        vertical-align: middle;\n",
       "    }\n",
       "\n",
       "    .dataframe tbody tr th {\n",
       "        vertical-align: top;\n",
       "    }\n",
       "\n",
       "    .dataframe thead th {\n",
       "        text-align: right;\n",
       "    }\n",
       "</style>\n",
       "<table border=\"1\" class=\"dataframe\">\n",
       "  <thead>\n",
       "    <tr style=\"text-align: right;\">\n",
       "      <th></th>\n",
       "      <th>vendor_id</th>\n",
       "      <th>passenger_count</th>\n",
       "      <th>pickup_longitude</th>\n",
       "      <th>pickup_latitude</th>\n",
       "      <th>dropoff_longitude</th>\n",
       "      <th>dropoff_latitude</th>\n",
       "      <th>log_trip_duration</th>\n",
       "    </tr>\n",
       "    <tr>\n",
       "      <th>id</th>\n",
       "      <th></th>\n",
       "      <th></th>\n",
       "      <th></th>\n",
       "      <th></th>\n",
       "      <th></th>\n",
       "      <th></th>\n",
       "      <th></th>\n",
       "    </tr>\n",
       "  </thead>\n",
       "  <tbody>\n",
       "    <tr>\n",
       "      <th>id2875421</th>\n",
       "      <td>2</td>\n",
       "      <td>1</td>\n",
       "      <td>-73.982155</td>\n",
       "      <td>40.767937</td>\n",
       "      <td>-73.964630</td>\n",
       "      <td>40.765602</td>\n",
       "      <td>6.122493</td>\n",
       "    </tr>\n",
       "    <tr>\n",
       "      <th>id2377394</th>\n",
       "      <td>1</td>\n",
       "      <td>1</td>\n",
       "      <td>-73.980415</td>\n",
       "      <td>40.738564</td>\n",
       "      <td>-73.999481</td>\n",
       "      <td>40.731152</td>\n",
       "      <td>6.498282</td>\n",
       "    </tr>\n",
       "    <tr>\n",
       "      <th>id3858529</th>\n",
       "      <td>2</td>\n",
       "      <td>1</td>\n",
       "      <td>-73.979027</td>\n",
       "      <td>40.763939</td>\n",
       "      <td>-74.005333</td>\n",
       "      <td>40.710087</td>\n",
       "      <td>7.661527</td>\n",
       "    </tr>\n",
       "    <tr>\n",
       "      <th>id3504673</th>\n",
       "      <td>2</td>\n",
       "      <td>1</td>\n",
       "      <td>-74.010040</td>\n",
       "      <td>40.719971</td>\n",
       "      <td>-74.012268</td>\n",
       "      <td>40.706718</td>\n",
       "      <td>6.063785</td>\n",
       "    </tr>\n",
       "    <tr>\n",
       "      <th>id2181028</th>\n",
       "      <td>2</td>\n",
       "      <td>1</td>\n",
       "      <td>-73.973053</td>\n",
       "      <td>40.793209</td>\n",
       "      <td>-73.972923</td>\n",
       "      <td>40.782520</td>\n",
       "      <td>6.077642</td>\n",
       "    </tr>\n",
       "    <tr>\n",
       "      <th>...</th>\n",
       "      <td>...</td>\n",
       "      <td>...</td>\n",
       "      <td>...</td>\n",
       "      <td>...</td>\n",
       "      <td>...</td>\n",
       "      <td>...</td>\n",
       "      <td>...</td>\n",
       "    </tr>\n",
       "    <tr>\n",
       "      <th>id2376096</th>\n",
       "      <td>2</td>\n",
       "      <td>4</td>\n",
       "      <td>-73.982201</td>\n",
       "      <td>40.745522</td>\n",
       "      <td>-73.994911</td>\n",
       "      <td>40.740170</td>\n",
       "      <td>6.658011</td>\n",
       "    </tr>\n",
       "    <tr>\n",
       "      <th>id1049543</th>\n",
       "      <td>1</td>\n",
       "      <td>1</td>\n",
       "      <td>-74.000946</td>\n",
       "      <td>40.747379</td>\n",
       "      <td>-73.970184</td>\n",
       "      <td>40.796547</td>\n",
       "      <td>6.486161</td>\n",
       "    </tr>\n",
       "    <tr>\n",
       "      <th>id2304944</th>\n",
       "      <td>2</td>\n",
       "      <td>1</td>\n",
       "      <td>-73.959129</td>\n",
       "      <td>40.768799</td>\n",
       "      <td>-74.004433</td>\n",
       "      <td>40.707371</td>\n",
       "      <td>6.639876</td>\n",
       "    </tr>\n",
       "    <tr>\n",
       "      <th>id2714485</th>\n",
       "      <td>1</td>\n",
       "      <td>1</td>\n",
       "      <td>-73.982079</td>\n",
       "      <td>40.749062</td>\n",
       "      <td>-73.974632</td>\n",
       "      <td>40.757107</td>\n",
       "      <td>5.924256</td>\n",
       "    </tr>\n",
       "    <tr>\n",
       "      <th>id1209952</th>\n",
       "      <td>1</td>\n",
       "      <td>1</td>\n",
       "      <td>-73.979538</td>\n",
       "      <td>40.781750</td>\n",
       "      <td>-73.972809</td>\n",
       "      <td>40.790585</td>\n",
       "      <td>5.293305</td>\n",
       "    </tr>\n",
       "  </tbody>\n",
       "</table>\n",
       "<p>1458644 rows × 7 columns</p>\n",
       "</div>"
      ],
      "text/plain": [
       "           vendor_id  passenger_count  pickup_longitude  pickup_latitude  \\\n",
       "id                                                                         \n",
       "id2875421          2                1        -73.982155        40.767937   \n",
       "id2377394          1                1        -73.980415        40.738564   \n",
       "id3858529          2                1        -73.979027        40.763939   \n",
       "id3504673          2                1        -74.010040        40.719971   \n",
       "id2181028          2                1        -73.973053        40.793209   \n",
       "...              ...              ...               ...              ...   \n",
       "id2376096          2                4        -73.982201        40.745522   \n",
       "id1049543          1                1        -74.000946        40.747379   \n",
       "id2304944          2                1        -73.959129        40.768799   \n",
       "id2714485          1                1        -73.982079        40.749062   \n",
       "id1209952          1                1        -73.979538        40.781750   \n",
       "\n",
       "           dropoff_longitude  dropoff_latitude  log_trip_duration  \n",
       "id                                                                 \n",
       "id2875421         -73.964630         40.765602           6.122493  \n",
       "id2377394         -73.999481         40.731152           6.498282  \n",
       "id3858529         -74.005333         40.710087           7.661527  \n",
       "id3504673         -74.012268         40.706718           6.063785  \n",
       "id2181028         -73.972923         40.782520           6.077642  \n",
       "...                      ...               ...                ...  \n",
       "id2376096         -73.994911         40.740170           6.658011  \n",
       "id1049543         -73.970184         40.796547           6.486161  \n",
       "id2304944         -74.004433         40.707371           6.639876  \n",
       "id2714485         -73.974632         40.757107           5.924256  \n",
       "id1209952         -73.972809         40.790585           5.293305  \n",
       "\n",
       "[1458644 rows x 7 columns]"
      ]
     },
     "execution_count": 4,
     "metadata": {},
     "output_type": "execute_result"
    }
   ],
   "source": [
    "initial_data "
   ]
  },
  {
   "cell_type": "code",
   "execution_count": 5,
   "id": "43b18eb9",
   "metadata": {},
   "outputs": [],
   "source": [
    "### Выделим test\n",
    "\n",
    "from sklearn.model_selection import train_test_split\n",
    "\n",
    "X = initial_data.drop('log_trip_duration', axis=1)\n",
    "y = initial_data['log_trip_duration']\n",
    "\n",
    "X_train, X_test, y_train, y_test = train_test_split(X, y, \n",
    "                                                    test_size=0.2, \n",
    "                                                    random_state=42)"
   ]
  },
  {
   "cell_type": "code",
   "execution_count": 6,
   "id": "f227296d",
   "metadata": {},
   "outputs": [],
   "source": [
    "### Применим K-Fold на оставшуюяся валидационную часть X_train, y_train\n",
    "\n",
    "from sklearn.model_selection import KFold\n",
    "\n",
    "splitter = KFold(n_splits=20, shuffle=True, random_state=33)"
   ]
  },
  {
   "cell_type": "code",
   "execution_count": 7,
   "id": "5469cb1a",
   "metadata": {},
   "outputs": [],
   "source": [
    "### Замерим качество на кросс-валидации\n",
    "from sklearn.linear_model import LinearRegression\n",
    "\n",
    "\n",
    "losses_train = []\n",
    "losses_test = []\n",
    "for train_index, val_index in splitter.split(X_train):\n",
    "    x_train, x_val = X_train.values[train_index],X_train.values[val_index]\n",
    "    Y_train, Y_val = y_train.values[train_index],y_train.values[val_index]\n",
    "    \n",
    "    model = LinearRegression()\n",
    "    model.fit(x_train,Y_train)\n",
    "    \n",
    "    losses_train.append(\n",
    "        np.mean((model.predict(x_train) - Y_train)**2)\n",
    "    )\n",
    "    losses_test.append(\n",
    "        np.mean((model.predict(x_val) - Y_val)**2)\n",
    "    )"
   ]
  },
  {
   "cell_type": "code",
   "execution_count": 8,
   "id": "127087e4",
   "metadata": {
    "scrolled": true
   },
   "outputs": [
    {
     "data": {
      "text/plain": [
       "0.6086150868728148"
      ]
     },
     "execution_count": 8,
     "metadata": {},
     "output_type": "execute_result"
    }
   ],
   "source": [
    "np.mean(losses_train)"
   ]
  },
  {
   "cell_type": "code",
   "execution_count": 9,
   "id": "581f2b0f",
   "metadata": {
    "scrolled": true
   },
   "outputs": [
    {
     "data": {
      "text/plain": [
       "0.6134219105328513"
      ]
     },
     "execution_count": 9,
     "metadata": {},
     "output_type": "execute_result"
    }
   ],
   "source": [
    "np.mean(losses_test)"
   ]
  },
  {
   "cell_type": "code",
   "execution_count": 10,
   "id": "dd8653cd",
   "metadata": {},
   "outputs": [
    {
     "data": {
      "text/plain": [
       "0.6056668879526306"
      ]
     },
     "execution_count": 10,
     "metadata": {},
     "output_type": "execute_result"
    }
   ],
   "source": [
    "### Теперь построим модель на всей тренировочной выборке\n",
    "### и замерим качество на тесте\n",
    "model = LinearRegression()\n",
    "model.fit(X_train,y_train)\n",
    "np.mean((model.predict(X_test) - y_test)**2)\n",
    "    \n"
   ]
  },
  {
   "cell_type": "markdown",
   "id": "b74a5e47",
   "metadata": {},
   "source": [
    "### 2. Проделаем все то же самое, только для модели с более осознанными признаками"
   ]
  },
  {
   "cell_type": "code",
   "execution_count": 11,
   "id": "ef084e15",
   "metadata": {
    "scrolled": true
   },
   "outputs": [],
   "source": [
    "processed_data = pd.read_csv('processed_data.csv', index_col='id')"
   ]
  },
  {
   "cell_type": "code",
   "execution_count": 12,
   "id": "ce555434",
   "metadata": {},
   "outputs": [
    {
     "data": {
      "text/html": [
       "<div>\n",
       "<style scoped>\n",
       "    .dataframe tbody tr th:only-of-type {\n",
       "        vertical-align: middle;\n",
       "    }\n",
       "\n",
       "    .dataframe tbody tr th {\n",
       "        vertical-align: top;\n",
       "    }\n",
       "\n",
       "    .dataframe thead th {\n",
       "        text-align: right;\n",
       "    }\n",
       "</style>\n",
       "<table border=\"1\" class=\"dataframe\">\n",
       "  <thead>\n",
       "    <tr style=\"text-align: right;\">\n",
       "      <th></th>\n",
       "      <th>vendor_id</th>\n",
       "      <th>passenger_count</th>\n",
       "      <th>store_and_fwd_flag</th>\n",
       "      <th>trip_duration</th>\n",
       "      <th>distance_km</th>\n",
       "    </tr>\n",
       "    <tr>\n",
       "      <th>id</th>\n",
       "      <th></th>\n",
       "      <th></th>\n",
       "      <th></th>\n",
       "      <th></th>\n",
       "      <th></th>\n",
       "    </tr>\n",
       "  </thead>\n",
       "  <tbody>\n",
       "    <tr>\n",
       "      <th>id2875421</th>\n",
       "      <td>1</td>\n",
       "      <td>930.399753</td>\n",
       "      <td>0</td>\n",
       "      <td>455.0</td>\n",
       "      <td>1.500479</td>\n",
       "    </tr>\n",
       "    <tr>\n",
       "      <th>id2377394</th>\n",
       "      <td>0</td>\n",
       "      <td>930.399753</td>\n",
       "      <td>0</td>\n",
       "      <td>663.0</td>\n",
       "      <td>1.807119</td>\n",
       "    </tr>\n",
       "    <tr>\n",
       "      <th>id3858529</th>\n",
       "      <td>1</td>\n",
       "      <td>930.399753</td>\n",
       "      <td>0</td>\n",
       "      <td>2124.0</td>\n",
       "      <td>6.392080</td>\n",
       "    </tr>\n",
       "    <tr>\n",
       "      <th>id3504673</th>\n",
       "      <td>1</td>\n",
       "      <td>930.399753</td>\n",
       "      <td>0</td>\n",
       "      <td>429.0</td>\n",
       "      <td>1.487155</td>\n",
       "    </tr>\n",
       "    <tr>\n",
       "      <th>id2181028</th>\n",
       "      <td>1</td>\n",
       "      <td>930.399753</td>\n",
       "      <td>0</td>\n",
       "      <td>435.0</td>\n",
       "      <td>1.189925</td>\n",
       "    </tr>\n",
       "  </tbody>\n",
       "</table>\n",
       "</div>"
      ],
      "text/plain": [
       "           vendor_id  passenger_count  store_and_fwd_flag  trip_duration  \\\n",
       "id                                                                         \n",
       "id2875421          1       930.399753                   0          455.0   \n",
       "id2377394          0       930.399753                   0          663.0   \n",
       "id3858529          1       930.399753                   0         2124.0   \n",
       "id3504673          1       930.399753                   0          429.0   \n",
       "id2181028          1       930.399753                   0          435.0   \n",
       "\n",
       "           distance_km  \n",
       "id                      \n",
       "id2875421     1.500479  \n",
       "id2377394     1.807119  \n",
       "id3858529     6.392080  \n",
       "id3504673     1.487155  \n",
       "id2181028     1.189925  "
      ]
     },
     "execution_count": 12,
     "metadata": {},
     "output_type": "execute_result"
    }
   ],
   "source": [
    "processed_data.head()"
   ]
  },
  {
   "cell_type": "code",
   "execution_count": 13,
   "id": "4891a8f1",
   "metadata": {},
   "outputs": [],
   "source": [
    "### Также замеряем MSLE.\n",
    "import numpy as np\n",
    "\n",
    "processed_data = processed_data.assign(log_trip_duration=np.log1p(processed_data['trip_duration']))\n",
    "processed_data = processed_data.drop('trip_duration', axis=1)"
   ]
  },
  {
   "cell_type": "code",
   "execution_count": 14,
   "id": "e5acaeb9",
   "metadata": {},
   "outputs": [],
   "source": [
    "X_2 = processed_data.drop('log_trip_duration', axis=1)\n",
    "y_2 = processed_data['log_trip_duration']"
   ]
  },
  {
   "cell_type": "code",
   "execution_count": 15,
   "id": "c78d9e1b",
   "metadata": {},
   "outputs": [],
   "source": [
    "### Важно! на валидации и на тесте, не шаффлим данные заново!\n",
    "### Берем те же индексы, что и на прошлой, \n",
    "### поскольку данные из одной и той же таблицы\n",
    "\n",
    "test_indexes = X_test.index\n",
    "train_indexes = X_train.index\n",
    "\n",
    "X_train_2 = X_2[X_2.index.isin(train_indexes)]\n",
    "y_train_2 = y_2[y_2.index.isin(train_indexes)]\n",
    "\n",
    "X_test_2 = X_2[X_2.index.isin(test_indexes)]\n",
    "y_test_2 = y_2[y_2.index.isin(test_indexes)]"
   ]
  },
  {
   "cell_type": "code",
   "execution_count": 16,
   "id": "32f45336",
   "metadata": {},
   "outputs": [],
   "source": [
    "### Замерим качество на кросс-валидации\n",
    "\n",
    "losses_train_2 = []\n",
    "losses_test_2 = []\n",
    "for train_index, val_index in splitter.split(X_train_2):\n",
    "    x_train, x_val = X_train_2.values[train_index],X_train_2.values[val_index]\n",
    "    Y_train, Y_val = y_train_2.values[train_index],y_train_2.values[val_index]\n",
    "    \n",
    "    model = LinearRegression()\n",
    "    model.fit(x_train,Y_train)\n",
    "    \n",
    "    losses_train_2.append(\n",
    "        np.mean((model.predict(x_train) - Y_train)**2)\n",
    "    )\n",
    "    losses_test_2.append(\n",
    "        np.mean((model.predict(x_val) - Y_val)**2)\n",
    "    )"
   ]
  },
  {
   "cell_type": "code",
   "execution_count": 17,
   "id": "efd59d13",
   "metadata": {},
   "outputs": [
    {
     "data": {
      "text/plain": [
       "0.42868799007351904"
      ]
     },
     "execution_count": 17,
     "metadata": {},
     "output_type": "execute_result"
    }
   ],
   "source": [
    "np.mean(losses_train_2)"
   ]
  },
  {
   "cell_type": "code",
   "execution_count": 18,
   "id": "f4c0e9d0",
   "metadata": {},
   "outputs": [
    {
     "data": {
      "text/plain": [
       "0.4313257704232948"
      ]
     },
     "execution_count": 18,
     "metadata": {},
     "output_type": "execute_result"
    }
   ],
   "source": [
    "np.mean(losses_test_2)"
   ]
  },
  {
   "cell_type": "code",
   "execution_count": 19,
   "id": "5d6e90e7",
   "metadata": {},
   "outputs": [
    {
     "data": {
      "text/plain": [
       "0.4074669546810294"
      ]
     },
     "execution_count": 19,
     "metadata": {},
     "output_type": "execute_result"
    }
   ],
   "source": [
    "### Теперь построим модель и замерим качество на тесте\n",
    "model = LinearRegression()\n",
    "model.fit(X_train_2,y_train_2)\n",
    "np.mean((model.predict(X_test_2) - y_test_2)**2)"
   ]
  },
  {
   "cell_type": "markdown",
   "id": "bda73214",
   "metadata": {},
   "source": [
    "#### Результаты получились различные. \n",
    "#### Более осознанные данные дали меньшую ошибку по оценки MSLE, что для оптимального поиска Такси-Клиента будет приемлимой первичной оценкой"
   ]
  }
 ],
 "metadata": {
  "kernelspec": {
   "display_name": "Python 3 (ipykernel)",
   "language": "python",
   "name": "python3"
  },
  "language_info": {
   "codemirror_mode": {
    "name": "ipython",
    "version": 3
   },
   "file_extension": ".py",
   "mimetype": "text/x-python",
   "name": "python",
   "nbconvert_exporter": "python",
   "pygments_lexer": "ipython3",
   "version": "3.9.7"
  }
 },
 "nbformat": 4,
 "nbformat_minor": 5
}
